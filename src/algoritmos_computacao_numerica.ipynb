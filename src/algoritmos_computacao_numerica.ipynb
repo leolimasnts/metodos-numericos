{
  "cells": [
    {
      "cell_type": "markdown",
      "metadata": {
        "id": "0kdfcAiTE8ZH"
      },
      "source": [
        "# Algoritmos de Métodos Numéricos\n",
        "\n",
        "## Raiz, Interpolação, Integração, Derivada e Problemas de Valor Inicial"
      ]
    },
    {
      "cell_type": "markdown",
      "metadata": {
        "id": "COEnwCbLE3Cp"
      },
      "source": [
        "## Bisseção"
      ]
    },
    {
      "cell_type": "markdown",
      "metadata": {
        "id": "o_YYWDtH0g3-"
      },
      "source": [
        " O código implementa o método da bisseção para encontrar a raiz de uma função.\n",
        " Ele funciona da seguinte maneira:\n",
        "\n",
        " 1. **Inicialização**:\n",
        "    - Define uma tolerância que determina a precisão desejada para a raiz.\n",
        "    - Define os valores iniciais `esq` e `dir` que delimitam o intervalo onde a raiz é esperada.\n",
        "    - Define a função `f(t)` que representa a equação cuja raiz queremos encontrar.\n",
        "\n",
        " 2. **Função `bissecao(esq, dir)`**:\n",
        "    - Inicializa um contador de iterações.\n",
        "    - Verifica se a raiz já está em uma das extremidades do intervalo (esq ou dir).\n",
        "    - Entra em um loop que continua até que a tolerância seja atingida:\n",
        "        - Calcula o ponto médio `meio` do intervalo.\n",
        "        - Avalia a função `f` no ponto médio.\n",
        "        - Se o valor absoluto de `f(meio)` for menor que a tolerância, a raiz foi encontrada e o loop é interrompido.\n",
        "        - Caso contrário, o intervalo é ajustado:\n",
        "            - Se `f(esq) * f(meio)` for negativo, a raiz está no intervalo [esq, meio], então `dir` é atualizado para `meio`.\n",
        "            - Caso contrário, a raiz está no intervalo [meio, dir], então `esq` é atualizado para `meio`.\n",
        "\n",
        " **Vantagens do método da bisseção**:\n",
        " - Simplicidade e fácil implementação.\n",
        " - Garantia de convergência para funções contínuas que mudam de sinal no intervalo inicial.\n",
        " - Robustez, pois não é sensível a oscilações na função.\n",
        "\n",
        " **Desvantagens do método da bisseção:**\n",
        " - Convergência relativamente lenta em comparação com outros métodos, como o método de Newton-Raphson.\n",
        " - Requer o conhecimento prévio de um intervalo que contenha a raiz.\n",
        " - Pode não encontrar todas as raízes se a função tiver múltiplas raízes dentro do intervalo.\n"
      ]
    },
    {
      "cell_type": "code",
      "execution_count": null,
      "metadata": {
        "colab": {
          "base_uri": "https://localhost:8080/"
        },
        "id": "GOU9rDW9_5bc",
        "outputId": "e033d9e8-3748-4f77-8a22-a629d24a9a84"
      },
      "outputs": [
        {
          "data": {
            "text/plain": [
              "(0.011098876953125, 14)"
            ]
          },
          "execution_count": 32,
          "metadata": {},
          "output_type": "execute_result"
        }
      ],
      "source": [
        "# RAIZ ENTRE VALORES INICIAIS\n",
        "\n",
        "tolerancia = 0.01\n",
        "esq = 0.001\n",
        "dir = 0.021\n",
        "\n",
        "\n",
        "def f(t):\n",
        "    return (50000 * t - (50000 * (1 / 60 + 7.5 / 1200))) * ((1 + t) ** 60) + (50000 * (1 / 60 + 7.5 / 1200))\n",
        "\n",
        "\n",
        "def bissecao(esq, dir):\n",
        "    iteracoes = 0\n",
        "    if f(esq) == 0:\n",
        "        return esq\n",
        "    if f(dir) == 0:\n",
        "        return dir\n",
        "\n",
        "    while True:\n",
        "        iteracoes += 1\n",
        "        meio = (esq + dir) / 2\n",
        "\n",
        "        if abs(f(meio)) < tolerancia:\n",
        "            return meio, iteracoes\n",
        "        if (f(esq) * f(meio)) < 0:\n",
        "            dir = meio\n",
        "        else:\n",
        "            esq = meio\n",
        "    return meio, iteracoes\n",
        "\n",
        "\n",
        "bissecao(esq, dir)\n"
      ]
    },
    {
      "cell_type": "code",
      "execution_count": null,
      "metadata": {
        "id": "a5sf4AmDUWvg"
      },
      "outputs": [],
      "source": []
    },
    {
      "cell_type": "markdown",
      "metadata": {
        "id": "U00pYTpOFDIV"
      },
      "source": [
        "## Newton"
      ]
    },
    {
      "cell_type": "markdown",
      "metadata": {
        "id": "APAOOXNw5eAp"
      },
      "source": [
        "O código implementa o método de Newton-Raphson para encontrar a raiz de uma função.\n",
        " Ele funciona da seguinte maneira:\n",
        "\n",
        " 1. **Inicialização**:\n",
        "    - Define a função `f(x)` que representa a equação cuja raiz queremos encontrar.\n",
        "    - Define a função `fDerivada(x)` que calcula a derivada da função `f(x)`.\n",
        "    - Define a função `newtonRaphson(valorInicial, maxIteracoes=100)` que recebe o valor inicial da iteração e o número máximo de iterações (opcional, com valor padrão de 100).\n",
        "\n",
        " 2. **Função `newtonRaphson(valorInicial, maxIteracoes)`**:\n",
        "    - Inicializa a variável `xAtual` com o valor inicial.\n",
        "    - Inicializa um contador de iterações.\n",
        "    - Entra em um loop que continua até que o número máximo de iterações seja atingido ou a tolerância seja atingida:\n",
        "        - Calcula o próximo valor de `xAtual` usando a fórmula de Newton-Raphson:\n",
        "            xAtual = xAtual - f(xAtual) / fDerivada(xAtual)\n",
        "        - Avalia a função `f` no novo valor de `xAtual`.\n",
        "        - Se o valor absoluto de `f(xAtual)` for menor que a tolerância, a raiz foi encontrada e o loop é interrompido.\n",
        "\n",
        " **Vantagens do método de Newton-Raphson**:\n",
        " - Convergência rápida para a raiz, geralmente quadrática, o que significa que o número de dígitos corretos dobra a cada iteração.\n",
        " - Eficiente em termos de número de iterações necessárias para encontrar a raiz.\n",
        "\n",
        " **Desvantagens do método de Newton-Raphson**:\n",
        " - Requer o cálculo da derivada da função, o que pode ser complicado ou impossível em alguns casos.\n",
        " - Pode não convergir se o valor inicial estiver muito longe da raiz ou se a derivada da função for zero ou próxima de zero em algum ponto próximo da raiz.\n",
        " - Pode ser sensível à escolha do valor inicial, convergindo para diferentes raízes ou divergindo dependendo do valor escolhido.\n"
      ]
    },
    {
      "cell_type": "code",
      "execution_count": null,
      "metadata": {
        "colab": {
          "base_uri": "https://localhost:8080/"
        },
        "id": "gU2vUtl8FUMu",
        "outputId": "93ec8d2e-3af7-4daf-f811-bff2b005ba9a"
      },
      "outputs": [
        {
          "data": {
            "text/plain": [
              "(0.011099113445644168, 10)"
            ]
          },
          "execution_count": 45,
          "metadata": {},
          "output_type": "execute_result"
        }
      ],
      "source": [
        "def f:\n",
        "    return (50000 * x - (50000 * (1 / 60 + 7.5 / 1200))) * ((1 + x) ** 60) + (50000 * (1 / 60 + 7.5 / 1200))\n",
        "\n",
        "\n",
        "def fDerivada(x):\n",
        "    return 50000 * ((1 + x) ** 60) + (50000 * x - (50000 * (1 / 60 + 7.5 / 1200))) * 60 * (1 + x) ** (59)\n",
        "\n",
        "\n",
        "def newtonRaphson(valorInicial, maxIteracoes=100):\n",
        "    xAtual = valorInicial\n",
        "\n",
        "    iteracoes = 0\n",
        "\n",
        "    for iteracoes in range(maxIteracoes):\n",
        "        iteracoes += 1\n",
        "\n",
        "        xAtual = xAtual - f(xAtual) / fDerivada(xAtual)\n",
        "\n",
        "        if abs(f(xAtual)) < tolerancia:\n",
        "            return xAtual, iteracoes\n",
        "\n",
        "\n",
        "newtonRaphson(0.075)\n"
      ]
    },
    {
      "cell_type": "markdown",
      "metadata": {
        "id": "VTitmn69GSw-"
      },
      "source": [
        "## Falsa Posição"
      ]
    },
    {
      "cell_type": "markdown",
      "metadata": {
        "id": "QHMyMgJj5sZp"
      },
      "source": [
        " O método da falsa posição, também conhecido como método da regula falsi, é um método numérico iterativo usado para encontrar raízes de uma função.\n",
        " Ele é uma variação do método da bisseção, mas em vez de simplesmente dividir o intervalo de busca ao meio, ele usa uma interpolação linear para estimar a posição da raiz.\n",
        "\n",
        " **Funcionamento**:\n",
        "\n",
        " 1. Inicialização: O método começa com dois valores iniciais, `esq` e `dir`, que delimitam um intervalo que contém a raiz da função.\n",
        " 2. Interpolação Linear: Uma reta é traçada entre os pontos (esq, f(esq)) e (dir, f(dir)). O ponto onde essa reta cruza o eixo x é a estimativa da raiz, chamada de `pontoFalsaPosicao`.\n",
        " 3. Atualização do Intervalo: O intervalo de busca é atualizado com base no sinal de f(pontoFalsaPosicao):\n",
        "     - Se f(esq) * f(pontoFalsaPosicao) < 0, a raiz está entre `esq` e `pontoFalsaPosicao`. O valor de `dir` é atualizado para `pontoFalsaPosicao`.\n",
        "     - Caso contrário, a raiz está entre `pontoFalsaPosicao` e `dir`. O valor de `esq` é atualizado para `pontoFalsaPosicao`.\n",
        " 4. Critério de Parada: O processo iterativo continua até que o valor absoluto de f(pontoFalsaPosicao) seja menor que uma tolerância predefinida.\n",
        "\n",
        " **Vantagens**:\n",
        "\n",
        " - Convergência mais rápida que o método da bisseção em muitos casos.\n",
        " - Robusto, pois garante a convergência para uma raiz dentro do intervalo inicial.\n",
        "\n",
        " **Desvantagens**:\n",
        "\n",
        " - Pode convergir mais lentamente que outros métodos, como o método de Newton-Raphson, em algumas situações.\n",
        " - A convergência pode ser lenta se a função tiver uma curvatura acentuada perto da raiz.\n"
      ]
    },
    {
      "cell_type": "code",
      "execution_count": null,
      "metadata": {
        "colab": {
          "base_uri": "https://localhost:8080/"
        },
        "id": "-ddRBiHZGU_G",
        "outputId": "208addfd-af82-4635-fe12-f4765882b15a"
      },
      "outputs": [
        {
          "data": {
            "text/plain": [
              "(0.011098797261285829, 30)"
            ]
          },
          "execution_count": 46,
          "metadata": {},
          "output_type": "execute_result"
        }
      ],
      "source": [
        "# RAIZ ENTRE VALORES INICIAIS\n",
        "\n",
        "tolerancia = 0.01\n",
        "esq = 0.001\n",
        "dir = 0.021\n",
        "\n",
        "\n",
        "\n",
        "def f(x):\n",
        "  return (50000 * x - (50000 * (1 / 60 + 7.5 / 1200))) * ((1 + x) ** 60) + (50000 * (1 / 60 + 7.5 / 1200))\n",
        "\n",
        "\n",
        "\n",
        "def falsaPosicao(esq, dir):\n",
        "  iteracoes = 0\n",
        "\n",
        "  if f(esq) == 0:\n",
        "    return esq\n",
        "  if f(dir) == 0:\n",
        "    return dir\n",
        "\n",
        "  while True:\n",
        "    iteracoes += 1\n",
        "\n",
        "    pontoFalsaPosicao = ((esq * f(dir)) - (dir * f(esq))) / (f(dir) - f(esq))\n",
        "\n",
        "    if abs(f(pontoFalsaPosicao)) < tolerancia:\n",
        "      break\n",
        "\n",
        "    if (f(esq) * f(pontoFalsaPosicao)) < 0:\n",
        "      dir = pontoFalsaPosicao\n",
        "    else:\n",
        "      esq = pontoFalsaPosicao\n",
        "\n",
        "  return pontoFalsaPosicao, iteracoes\n",
        "\n",
        "falsaPosicao(esq, dir)"
      ]
    },
    {
      "cell_type": "markdown",
      "metadata": {
        "id": "QwGI-LkdKVJ8"
      },
      "source": [
        "## Secante"
      ]
    },
    {
      "cell_type": "markdown",
      "metadata": {
        "id": "OpwjrBWi5-SD"
      },
      "source": [
        "O método da secante é um método numérico iterativo usado para encontrar raízes de uma função.\n",
        " Ele é semelhante ao método de Newton-Raphson, mas em vez de exigir a derivada da função, ele usa uma aproximação da derivada calculada a partir de dois pontos anteriores.\n",
        "\n",
        " **Funcionamento**:\n",
        "\n",
        " 1. Inicialização: O método começa com dois valores iniciais, `inicial1` e `inicial2', que são estimativas iniciais da raiz.\n",
        " 2. Aproximação da Derivada: A derivada da função em `xAtual` é aproximada usando a fórmula da secante:\n",
        "    `f'(xAtual) ≈ (f(xAtual) - f(xAnterior)) / (xAtual - xAnterior)`\n",
        " 3. Atualização da Estimativa: A próxima estimativa da raiz, `xAtual`, é calculada usando a fórmula:\n",
        "    `xAtual = xAtual - f(xAtual) / f'(xAtual)`\n",
        " 4. Critério de Parada: O processo iterativo continua até que o valor absoluto de `f(xAtual)` seja menor que uma tolerância predefinida ou o número máximo de iterações seja atingido.\n",
        "\n",
        " **Vantagens**:\n",
        "\n",
        " - Não requer o cálculo explícito da derivada da função, o que pode ser útil quando a derivada é difícil ou impossível de calcular.\n",
        " - Convergência rápida, geralmente superlinear, o que significa que o número de dígitos corretos aumenta mais rapidamente que linearmente a cada iteração.\n",
        "\n",
        " **Desvantagens**:\n",
        "\n",
        " - Pode não convergir se os valores iniciais estiverem muito longe da raiz ou se a função tiver um comportamento irregular perto da raiz.\n",
        " - A convergência pode ser mais lenta que o método de Newton-Raphson em algumas situações.\n",
        " - Requer duas estimativas iniciais, o que pode ser um problema em alguns casos.\n"
      ]
    },
    {
      "cell_type": "code",
      "execution_count": null,
      "metadata": {
        "colab": {
          "base_uri": "https://localhost:8080/"
        },
        "id": "c2HGjehXKgwX",
        "outputId": "d9bc267a-8134-46e8-ce9a-51f04b00366c"
      },
      "outputs": [
        {
          "data": {
            "text/plain": [
              "(0.011099161440244695, 13)"
            ]
          },
          "execution_count": 35,
          "metadata": {},
          "output_type": "execute_result"
        }
      ],
      "source": [
        "# RAIZ ENTRE VALORES INICIAIS\n",
        "\n",
        "tolerancia = 0.01\n",
        "inicial1 = 0.05\n",
        "inicial2 = 0.3\n",
        "\n",
        "\n",
        "def f(t):\n",
        "    return (50000 * t - (50000 * (1 / 60 + 7.5 / 1200))) * ((1 + t) ** 60) + (50000 * (1 / 60 + 7.5 / 1200))\n",
        "\n",
        "\n",
        "def secante(inicial1, inicial2, maxIteracoes=100):\n",
        "    xAnterior = inicial1\n",
        "    xAtual = inicial2\n",
        "\n",
        "    iteracoes = 0\n",
        "\n",
        "    for iteracoes in range(maxIteracoes):\n",
        "\n",
        "        iteracoes += 1\n",
        "        temp = xAtual\n",
        "        xAtual = xAtual - (f(xAtual) / ((f(xAtual) - f(xAnterior)) / (xAtual - xAnterior)))\n",
        "        xAnterior = temp\n",
        "\n",
        "        if abs(f(xAtual)) < tolerancia:\n",
        "            return xAtual, iteracoes\n",
        "\n",
        "    print(\"divergiu\")\n",
        "    return xAtual, iteracoes\n",
        "\n",
        "\n",
        "secante(inicial1, inicial2)\n"
      ]
    },
    {
      "cell_type": "markdown",
      "metadata": {
        "id": "oWZyQ-kPMiS9"
      },
      "source": [
        "# Interpolação"
      ]
    },
    {
      "cell_type": "markdown",
      "metadata": {
        "id": "j5lcPgV0Mn2K"
      },
      "source": [
        "## Newton\n"
      ]
    },
    {
      "cell_type": "markdown",
      "metadata": {
        "id": "7x-hVpmJ52-t"
      },
      "source": [
        " O método acima implementa a interpolação polinomial de Newton, que é uma técnica para encontrar um polinômio que passa por um conjunto de pontos dados.\n",
        "\n",
        " **Funcionamento detalhado**:\n",
        "\n",
        " 1. Cálculo das Diferenças Divididas:\n",
        "    - A função `diferencasDivididas` calcula as diferenças divididas, que são coeficientes usados na fórmula de interpolação de Newton.\n",
        "    - Ela recebe duas listas: `listaValoresX` (valores de x dos pontos) e `listaValoresY` (valores de y correspondentes).\n",
        "    - Cria uma tabela (matriz numpy) para armazenar as diferenças divididas.\n",
        "    - A primeira coluna da tabela é preenchida com os valores de `listaValoresY`.\n",
        "    - As demais colunas são calculadas recursivamente usando a fórmula das diferenças divididas:\n",
        "        `tabelaDif[i][j] = (tabelaDif[i + 1][j - 1] - tabelaDif[i][j - 1]) / (listaValoresX[i + j] - listaValoresX[i])`\n",
        "    - A função retorna a primeira linha da tabela, que contém os coeficientes para o polinômio interpolador.\n",
        "\n",
        " 2. Construção do Polinômio Interpolador:\n",
        "    - A função `newton` recebe as listas `listaValoresX` e `listaValoresY`.\n",
        "    - Chama a função `diferencasDivididas` para obter os coeficientes.\n",
        "    - Inicializa o polinômio interpolador com o primeiro coeficiente (termo constante).\n",
        "    - Itera pelos demais coeficientes, construindo o polinômio termo a termo:\n",
        "        - Cria um termo polinomial inicializado com 1.\n",
        "        - Multiplica o termo por fatores lineares da forma (x - xi), onde xi são os valores de x dos pontos.\n",
        "        - Adiciona o termo multiplicado pelo coeficiente correspondente ao polinômio interpolador.\n",
        "    - Retorna o polinômio interpolador como um objeto `numpy.poly1d`.\n",
        "\n",
        " 3. Exemplo de Uso:\n",
        "    - Define as listas `listaX` e `listaY` com os pontos (1, 1), (2, 4) e (3, 9).\n",
        "    - Chama a função `newton` para obter o polinômio interpolador.\n",
        "    - Avalia o polinômio em x = 10 usando `result = newton(listaX, listaY)(10)`.\n",
        "    - Imprime o resultado.\n",
        "\n",
        " Vantagens da Interpolação de Newton:\n",
        " - Fácil de entender e implementar.\n",
        " - Eficiente para adicionar novos pontos de dados, pois apenas as diferenças divididas adicionais precisam ser calculadas.\n",
        " - Permite a avaliação do polinômio interpolador em qualquer ponto dentro do intervalo dos dados.\n",
        "\n",
        " Desvantagens da Interpolação de Newton:\n",
        " - Pode sofrer do fenômeno de Runge, onde oscilações indesejadas podem ocorrer perto das extremidades do intervalo de interpolação, especialmente para conjuntos de dados com muitos pontos.\n",
        " - Pode ser numericamente instável para grandes conjuntos de dados.\n"
      ]
    },
    {
      "cell_type": "code",
      "execution_count": null,
      "metadata": {
        "colab": {
          "base_uri": "https://localhost:8080/"
        },
        "id": "1ua_6IAPMpR_",
        "outputId": "45e16a9b-afe8-4672-a97c-3df33271464c"
      },
      "outputs": [
        {
          "name": "stdout",
          "output_type": "stream",
          "text": [
            "100.0\n"
          ]
        }
      ],
      "source": [
        "import numpy as np\n",
        "\n",
        "\n",
        "def diferencasDivididas(listaValoresX, listaValoresY):\n",
        "    numDePontos = len(listaValoresX)\n",
        "    tabelaDif = np.zeros((numDePontos, numDePontos))\n",
        "    tabelaDif[:, 0] = listaValoresY\n",
        "\n",
        "    for j in range(1, numDePontos):\n",
        "        for i in range(numDePontos - j):\n",
        "            tabelaDif[i][j] = (tabelaDif[i + 1][j - 1] - tabelaDif[i][j - 1]) / (\n",
        "                        listaValoresX[i + j] - listaValoresX[i])\n",
        "\n",
        "    return tabelaDif[0, :]\n",
        "\n",
        "\n",
        "def newton(listaValoresX, listaValoresY):\n",
        "    listaCoeficientes = diferencasDivididas(listaValoresX, listaValoresY)\n",
        "    numDePontos = len(listaValoresX)\n",
        "\n",
        "    polinomio = np.poly1d([listaCoeficientes[0]])\n",
        "\n",
        "    for i in range(1, numDePontos):\n",
        "      termo = np.poly1d([1])\n",
        "      for k in range(i):\n",
        "        termo *= np.poly1d([1, -listaValoresX[k]])\n",
        "\n",
        "      polinomio += listaCoeficientes[i] * termo\n",
        "    return polinomio\n",
        "\n",
        "\n",
        "\n",
        "listaX = [1, 2, 3]\n",
        "listaY = [1, 4, 9]\n",
        "\n",
        "result = newton(listaX, listaY)(10)\n",
        "print(result)\n"
      ]
    },
    {
      "cell_type": "markdown",
      "metadata": {
        "id": "JrTxnMeJe0Y_"
      },
      "source": [
        "## Lagrange"
      ]
    },
    {
      "cell_type": "markdown",
      "metadata": {
        "id": "19OmgqLm6GtP"
      },
      "source": [
        " O código implementa o método de interpolação de Lagrange para encontrar um polinômio que passa por um conjunto de pontos dados.\n",
        " Ele funciona da seguinte maneira:\n",
        "\n",
        " 1. **Inicialização**:\n",
        "    - Define a função `lagrange(listaValoresX, listaValoresY)` que recebe duas listas:\n",
        "      - `listaValoresX` contém as coordenadas x dos pontos.\n",
        "      - `listaValoresY` contém as coordenadas y correspondentes.\n",
        "\n",
        " 2. **Função `lagrange(listaValoresX, listaValoresY)`**:\n",
        "    - Calcula o número de pontos `numDePontos`.\n",
        "    - Inicializa um polinômio `polinomio` como zero.\n",
        "    - Entra em um loop que itera sobre cada ponto:\n",
        "        - Inicializa um polinômio base `polinomioBase` como 1.\n",
        "        - Entra em um loop interno que itera sobre todos os outros pontos:\n",
        "            - Se o ponto atual do loop externo for diferente do ponto atual do loop interno,\n",
        "              multiplica `polinomioBase` por um polinômio linear que se anula no ponto atual do loop interno\n",
        "              e é igual a 1 no ponto atual do loop externo.\n",
        "        - Multiplica o polinômio base `polinomioBase` pelo valor y correspondente ao ponto atual do loop externo\n",
        "          e adiciona o resultado ao polinômio `polinomio`.\n",
        "\n",
        " 3. Retorno do Polinômio:\n",
        "    - A função retorna o polinômio `polinomio` que interpola os pontos dados.\n",
        "\n",
        " 4. Exemplo de Uso:\n",
        "    - Define as listas `listaX` e `listaY` com as coordenadas dos pontos.\n",
        "    - Chama a função `lagrange` com essas listas para obter o polinômio interpolador.\n",
        "    - Avalia o polinômio no ponto x = 5 e imprime o resultado.\n",
        "\n",
        " Vantagens do método de interpolação de Lagrange:\n",
        " - Fácil de entender e implementar.\n",
        " - Fornece uma solução exata para interpolar um conjunto de pontos.\n",
        "\n",
        " Desvantagens do método de interpolação de Lagrange:\n",
        " - Pode ser computacionalmente caro para um grande número de pontos.\n",
        " - Pode sofrer do fenômeno de Runge, onde a interpolação oscila perto das extremidades do intervalo para um grande número de pontos.\n",
        " - Adicionar um novo ponto requer o recálculo de todo o polinômio.\n"
      ]
    },
    {
      "cell_type": "code",
      "execution_count": null,
      "metadata": {
        "colab": {
          "base_uri": "https://localhost:8080/"
        },
        "id": "G482UWpke2lB",
        "outputId": "8db3e836-cbd3-4aed-c232-4dd13716b1d1"
      },
      "outputs": [
        {
          "name": "stdout",
          "output_type": "stream",
          "text": [
            "25.0\n"
          ]
        }
      ],
      "source": [
        "import numpy as np\n",
        "\n",
        "def lagrange(listaValoresX, listaValoresY):\n",
        "  numDePontos = len(listaValoresX)\n",
        "\n",
        "  polinomio = np.poly1d(0.0)\n",
        "\n",
        "  for i in range(numDePontos):\n",
        "    polinomioBase = np.poly1d(1.0)\n",
        "    for j in range(numDePontos):\n",
        "      if i != j:\n",
        "        polinomioBase *= np.poly1d([1.0, -listaValoresX[j]]) / (listaValoresX[i] - listaValoresX[j])\n",
        "\n",
        "    polinomio += listaValoresY[i]*polinomioBase\n",
        "\n",
        "  return polinomio\n",
        "\n",
        "\n",
        "listaX = [1, 2, 3]\n",
        "listaY = [1, 4, 9]\n",
        "\n",
        "result = lagrange(listaX, listaY)(5)\n",
        "print(result)"
      ]
    },
    {
      "cell_type": "markdown",
      "metadata": {
        "id": "nde1Om4gi07X"
      },
      "source": [
        "# Integração"
      ]
    },
    {
      "cell_type": "markdown",
      "metadata": {
        "id": "wiWCHJixi58S"
      },
      "source": [
        "## Trapézio"
      ]
    },
    {
      "cell_type": "markdown",
      "metadata": {
        "id": "yhSi2HlI6QYU"
      },
      "source": [
        " O método do trapézio é um método numérico para aproximar a integral definida de uma função.\n",
        " Ele funciona dividindo a área sob a curva da função em um número finito de trapézios e somando as áreas desses trapézios para obter uma aproximação da integral.\n",
        "\n",
        " Funcionamento:\n",
        "\n",
        " 1. Divisão do Intervalo: O intervalo de integração `[a, b]` é dividido em n subintervalos de igual largura, denotada por h.\n",
        " 2. Aproximação por Trapézios: Em cada subintervalo, a área sob a curva é aproximada pela área de um trapézio. A área de cada trapézio é calculada como a média das alturas das bases (valores da função nos extremos do subintervalo) multiplicada pela largura do subintervalo.\n",
        " 3. Soma das Áreas: As áreas de todos os trapézios são somadas para obter uma aproximação da integral definida.\n",
        "\n",
        " **Fórmula**:\n",
        "\n",
        " A integral definida de `f(x)` de `a` a `b` é aproximada por:\n",
        "\n",
        " `∫[a,b] f(x) dx ≈ h/2 * [f(a) + 2f(a+h) + 2f(a+2h) + ... + 2f(b-h) + f(b)]`\n",
        "\n",
        " onde `h = (b-a)/n` é a largura de cada subintervalo.\n",
        "\n",
        " **Vantagens**:\n",
        "\n",
        " - Simplicidade e fácil implementação.\n",
        " - Convergência relativamente rápida para funções suaves.\n",
        " - Pode ser usado para aproximar integrais de funções que não possuem uma forma analítica conhecida.\n",
        "\n",
        " **Desvantagens**:\n",
        "\n",
        " - A precisão da aproximação depende do número de subintervalos utilizados. Quanto maior o número de subintervalos, mais precisa será a aproximação, mas também mais tempo de computação será necessário.\n",
        " - Pode não ser muito preciso para funções com alta variação ou com descontinuidades.\n",
        "\n",
        " Em resumo, o método do trapézio é uma técnica útil para aproximar integrais definidas, especialmente quando a função não possui uma forma analítica conhecida. No entanto, é importante estar ciente de suas limitações e escolher o número de subintervalos apropriado para obter a precisão desejada.\n"
      ]
    },
    {
      "cell_type": "code",
      "execution_count": null,
      "metadata": {
        "colab": {
          "base_uri": "https://localhost:8080/"
        },
        "id": "F2i6gHZZi7u9",
        "outputId": "92bdce91-e032-49fc-f436-478047b4ef84"
      },
      "outputs": [
        {
          "data": {
            "text/plain": [
              "440.0"
            ]
          },
          "execution_count": 38,
          "metadata": {},
          "output_type": "execute_result"
        }
      ],
      "source": [
        "def f(x):\n",
        "  return x**2 + 2*x\n",
        "\n",
        "def metodoTrapezio(inicio, fim, largura):\n",
        "  baseTrapezio = (f(inicio) + f(fim)) / 2\n",
        "  return baseTrapezio * largura\n",
        "\n",
        "def trapezioExtendido(inicio, fim, numDeDivisoes):\n",
        "  larguraDivisao = abs(fim - inicio) / numDeDivisoes\n",
        "  xAtual = inicio\n",
        "  xProx = xAtual + larguraDivisao\n",
        "  areaTotal = 0\n",
        "\n",
        "  for i in range(numDeDivisoes):\n",
        "    areaTotal += metodoTrapezio(xAtual, xProx, larguraDivisao)\n",
        "    xAtual = xProx\n",
        "    xProx += larguraDivisao\n",
        "\n",
        "  return areaTotal\n",
        "\n",
        "trapezioExtendido(0, 10, 5)"
      ]
    },
    {
      "cell_type": "markdown",
      "metadata": {
        "id": "JucB2s6ikzLF"
      },
      "source": [
        "## Simpson"
      ]
    },
    {
      "cell_type": "markdown",
      "metadata": {
        "id": "EvnMqSJ96WzQ"
      },
      "source": [
        " O método de Simpson é um método numérico para aproximar a integral definida de uma função.\n",
        " Ele funciona aproximando a função por uma série de parábolas e somando as áreas sob essas parábolas para obter uma aproximação da integral.\n",
        "\n",
        " **Funcionamento**:\n",
        "\n",
        " 1. Divisão do Intervalo: O intervalo de integração `[a, b]` é dividido em um número par de subintervalos de igual largura, denotada por h.\n",
        " 2. Aproximação por Parábolas: Em cada par de subintervalos adjacentes, a função é aproximada por uma parábola que passa pelos três pontos correspondentes aos extremos e ao ponto médio dos subintervalos. A área sob cada parábola é calculada usando uma fórmula específica.\n",
        " 3. Soma das Áreas: As áreas sob todas as parábolas são somadas para obter uma aproximação da integral definida.\n",
        "\n",
        " Fórmula:\n",
        "\n",
        " A integral definida de `f(x)` de a a b é aproximada por:\n",
        "\n",
        " `∫[a,b] f(x) dx ≈ h/3 * [f(a) + 4f(a+h) + 2f(a+2h) + 4f(a+3h) + ... + 2f(b-2h) + 4f(b-h) + f(b)]`\n",
        "\n",
        " onde `h = (b-a)/n` é a largura de cada subintervalo e n é um número par.\n",
        "\n",
        " **Vantagens**:\n",
        "\n",
        " - Maior precisão que o método do trapézio para a mesma quantidade de subintervalos, pois aproxima a função por parábolas em vez de retas.\n",
        " - Convergência rápida para funções suaves.\n",
        " - Pode ser usado para aproximar integrais de funções que não possuem uma forma analítica conhecida.\n",
        "\n",
        " **Desvantagens**:\n",
        "\n",
        " - Requer um número par de subintervalos.\n",
        " - A precisão da aproximação depende do número de subintervalos utilizados. Quanto maior o número de subintervalos, mais precisa será a aproximação, mas também mais tempo de computação será necessário.\n",
        " - Pode não ser muito preciso para funções com alta variação ou com descontinuidades.\n",
        "\n",
        " Em resumo, o método de Simpson é uma técnica eficiente e precisa para aproximar integrais definidas, especialmente quando a função é suave. Ele oferece uma melhoria em relação ao método do trapézio em termos de precisão, mas requer um número par de subintervalos.\n"
      ]
    },
    {
      "cell_type": "code",
      "execution_count": null,
      "metadata": {
        "colab": {
          "base_uri": "https://localhost:8080/"
        },
        "id": "9txGyfIJk2Qr",
        "outputId": "d5e5804b-5ab8-4ebd-c138-f87571306462"
      },
      "outputs": [
        {
          "data": {
            "text/plain": [
              "433.33333333333337"
            ]
          },
          "execution_count": 39,
          "metadata": {},
          "output_type": "execute_result"
        }
      ],
      "source": [
        "def f(x):\n",
        "  return x**2 + 2*x\n",
        "\n",
        "def metodoSimpson(inicio, fim):\n",
        "  intervalo = (inicio - fim) / 2\n",
        "  y = f(inicio) + 4 * f(inicio + intervalo) + f(fim)\n",
        "  return intervalo / 3 * y\n",
        "\n",
        "def simpsonExtendido(inicio, fim, numDeDivisoes):\n",
        "  if numDeDivisoes % 2 != 0:\n",
        "    numDeDivisoes += 1\n",
        "\n",
        "  intervalo = abs(fim - inicio) / numDeDivisoes\n",
        "  soma = f(inicio) + f(fim)\n",
        "\n",
        "  for i in range(1, numDeDivisoes):\n",
        "    xi = inicio + intervalo * i\n",
        "    if i % 2 == 0:\n",
        "      soma += 2 * f(xi)\n",
        "    else:\n",
        "      soma += 4 * f(xi)\n",
        "\n",
        "  return intervalo / 3 * soma\n",
        "\n",
        "simpsonExtendido(0, 10, 5)"
      ]
    },
    {
      "cell_type": "markdown",
      "metadata": {
        "id": "8yWV6TE_mqFa"
      },
      "source": [
        "# Derivada"
      ]
    },
    {
      "cell_type": "markdown",
      "metadata": {
        "id": "xea-bOwgmupR"
      },
      "source": [
        "## Centrada"
      ]
    },
    {
      "cell_type": "code",
      "execution_count": null,
      "metadata": {
        "id": "KjrHHtYimwRU"
      },
      "outputs": [],
      "source": [
        "def derivadaCentrada(x, intervalo):\n",
        "  xMenor = f(x - intervalo)\n",
        "  xMaior = f(x + intervalo)\n",
        "  return (xMaior - xMenor) / (2 * intervalo)"
      ]
    },
    {
      "cell_type": "markdown",
      "metadata": {
        "id": "F2pYj-M3nNgl"
      },
      "source": [
        "## Atrasada\n"
      ]
    },
    {
      "cell_type": "code",
      "execution_count": null,
      "metadata": {
        "id": "dV9juX8knPZC"
      },
      "outputs": [],
      "source": [
        "def derivadaAtrasada(x, intervalo):\n",
        "  xMenor = f(x - intervalo)\n",
        "  return (f(x) - xMenor) / intervalo"
      ]
    },
    {
      "cell_type": "markdown",
      "metadata": {
        "id": "q00VrK_hnXq3"
      },
      "source": [
        "## Avançada\n"
      ]
    },
    {
      "cell_type": "code",
      "execution_count": null,
      "metadata": {
        "id": "u6DTHCMDna4H"
      },
      "outputs": [],
      "source": [
        "def derivadaCentrada(x, intervalo):\n",
        "  xMaior = f(x + intervalo)\n",
        "  return (xMaior - f(x)) / intervalo"
      ]
    },
    {
      "cell_type": "markdown",
      "metadata": {
        "id": "-m-Uvrh7npWJ"
      },
      "source": [
        "# Problema de Valor Inicial"
      ]
    },
    {
      "cell_type": "markdown",
      "metadata": {
        "id": "rYQ9ebjqnrtN"
      },
      "source": [
        "## Euler"
      ]
    },
    {
      "cell_type": "markdown",
      "metadata": {
        "id": "sKA1YaIt6mKB"
      },
      "source": [
        " O método de Euler é um método numérico de primeira ordem para aproximar a solução de uma equação diferencial ordinária (EDO) com um valor inicial dado.\n",
        " Ele é um método explícito, o que significa que o valor da solução no próximo ponto no tempo é calculado diretamente a partir do valor no ponto atual.\n",
        "\n",
        " Funcionamento:\n",
        " 1. Inicialização: O método começa com um valor inicial y(t_0) = y_0 e um passo de tempo h.\n",
        " 2. Aproximação da Derivada: A derivada da solução em um ponto t_i é aproximada usando a função f(t_i, y_i) da EDO.\n",
        " 3. Cálculo do Próximo Valor: O valor da solução no próximo ponto no tempo t_{i+1} = t_i + h é aproximado usando a fórmula:\n",
        "    y_{i+1} = y_i + h * f(t_i, y_i)\n",
        " 4. Iteração: O processo é repetido para calcular a solução em pontos subsequentes no tempo.\n",
        "\n",
        " Vantagens:\n",
        " - Simplicidade e fácil implementação.\n",
        " - Útil para obter uma primeira aproximação da solução de uma EDO.\n",
        "\n",
        " Desvantagens:\n",
        " - Baixa precisão, especialmente para passos de tempo grandes.\n",
        " - Pode ser instável para algumas EDOs, levando a soluções que divergem da solução real.\n",
        "\n",
        " Em resumo, o método de Euler é um método simples e fácil de implementar para aproximar a solução de uma EDO. No entanto, sua baixa precisão e potencial instabilidade o tornam inadequado para muitas aplicações práticas, especialmente quando alta precisão é necessária.\n",
        "def fDerivada(x, t):\n",
        "  return t - 3*x\n",
        "\n",
        "def euler(yInicial, tInicial, tamDoPasso, numDePassos):\n",
        "  y = yInicial\n",
        "  t = tInicial\n",
        "\n",
        "  for i in range(numDePassos):\n",
        "    t = tInicial + i * tamDoPasso\n",
        "    y = y + tamDoPasso*fDerivada(y, t)\n",
        "\n",
        "  return y\n",
        "result = euler(1, 0, 0.2, 10)\n",
        "print(result)\n"
      ]
    },
    {
      "cell_type": "code",
      "execution_count": null,
      "metadata": {
        "colab": {
          "base_uri": "https://localhost:8080/"
        },
        "id": "a5v1XcGPntGW",
        "outputId": "334d73fd-547a-49dc-f5f0-6c95128cadd8"
      },
      "outputs": [
        {
          "name": "stdout",
          "output_type": "stream",
          "text": [
            "0.555672064\n"
          ]
        }
      ],
      "source": [
        "def fDerivada(x, t):\n",
        "  return t - 3*x\n",
        "\n",
        "def euler(yInicial, tInicial, tamDoPasso, numDePassos):\n",
        "  y = yInicial\n",
        "  t = tInicial\n",
        "\n",
        "  for i in range(numDePassos):\n",
        "    t = tInicial + i * tamDoPasso\n",
        "    y = y + tamDoPasso*fDerivada(y, t)\n",
        "\n",
        "  return y\n",
        "result = euler(1, 0, 0.2, 10)\n",
        "print(result)"
      ]
    },
    {
      "cell_type": "markdown",
      "metadata": {
        "id": "zq57e62es2zm"
      },
      "source": [
        "## Euler Melhorado (Runge-Kutta 2)"
      ]
    },
    {
      "cell_type": "markdown",
      "metadata": {
        "id": "sapxkjuw6yMu"
      },
      "source": [
        " O método de Euler Melhorado, também conhecido como método de Runge-Kutta de segunda ordem,\n",
        " é um método numérico para aproximar a solução de uma equação diferencial ordinária (EDO) com um valor inicial dado.\n",
        " Ele é uma melhoria em relação ao método de Euler padrão, oferecendo maior precisão e estabilidade.\n",
        "\n",
        " Funcionamento:\n",
        "\n",
        " 1. Inicialização: O método começa com um valor inicial y(t_0) = y_0 e um passo de tempo h.\n",
        "\n",
        " 2. Previsão de Euler: Uma estimativa inicial da solução no próximo ponto no tempo t_{i+1} = t_i + h\n",
        "    é calculada usando o método de Euler padrão:\n",
        "    y_{i+1}^* = y_i + h * f(t_i, y_i)\n",
        "\n",
        " 3. Correção da Inclinação: A inclinação da solução no ponto médio do intervalo [t_i, t_{i+1}] é calculada usando a função f(t_{i+1}, y_{i+1}^*)\n",
        "    obtida na previsão de Euler.\n",
        "\n",
        " 4. Cálculo do Próximo Valor: O valor da solução no próximo ponto no tempo t_{i+1} é então calculado usando a média das inclinações\n",
        "    no início e no ponto médio do intervalo:\n",
        "    y_{i+1} = y_i + h/2 * [f(t_i, y_i) + f(t_{i+1}, y_{i+1}^*)]\n",
        "\n",
        " 5. Iteração: O processo é repetido para calcular a solução em pontos subsequentes no tempo.\n",
        "\n",
        " Vantagens:\n",
        "\n",
        " - Maior precisão em relação ao método de Euler padrão, pois leva em consideração a inclinação da solução no ponto médio do intervalo.\n",
        " - Maior estabilidade para algumas EDOs, reduzindo o risco de soluções divergentes.\n",
        " - Fácil implementação, com apenas uma etapa adicional em relação ao método de Euler padrão.\n",
        "\n",
        " Desvantagens:\n",
        "\n",
        " - Ainda pode apresentar erros de aproximação, especialmente para passos de tempo grandes.\n",
        " - Pode ser menos preciso que métodos de ordem superior, como o método de Runge-Kutta de quarta ordem, para algumas EDOs.\n",
        "\n",
        " Em resumo, o método de Euler Melhorado é uma técnica numérica eficaz para aproximar a solução de EDOs, oferecendo um bom equilíbrio entre precisão, estabilidade e facilidade de implementação.\n",
        " Ele é uma escolha popular para muitas aplicações práticas, especialmente quando o método de Euler padrão não oferece precisão suficiente.\n"
      ]
    },
    {
      "cell_type": "code",
      "execution_count": null,
      "metadata": {
        "colab": {
          "base_uri": "https://localhost:8080/"
        },
        "id": "d0DqSy2Es4TY",
        "outputId": "de97df81-bb40-4228-dfbd-02f55196a7ee"
      },
      "outputs": [
        {
          "name": "stdout",
          "output_type": "stream",
          "text": [
            "0.6889914163199999\n"
          ]
        }
      ],
      "source": [
        "def fDerivada(x, t):\n",
        "  return t - 3*x\n",
        "\n",
        "def eulerMelhorado(yInicial, tInicial, tamDoPasso, numDePassos):\n",
        "  y = yInicial\n",
        "  t = tInicial\n",
        "\n",
        "  for i in range(numDePassos):\n",
        "    t += tamDoPasso\n",
        "    y = y + (tamDoPasso / 2)*(fDerivada(y-tamDoPasso, t-tamDoPasso) + fDerivada(y, t))\n",
        "\n",
        "  return y\n",
        "\n",
        "\n",
        "\n",
        "result = eulerMelhorado(1, 0, 0.2, 10)\n",
        "print(result)"
      ]
    }
  ],
  "metadata": {
    "colab": {
      "provenance": [],
      "toc_visible": true
    },
    "kernelspec": {
      "display_name": "Python 3",
      "name": "python3"
    },
    "language_info": {
      "name": "python"
    }
  },
  "nbformat": 4,
  "nbformat_minor": 0
}
